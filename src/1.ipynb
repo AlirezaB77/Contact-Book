{
 "cells": [
  {
   "cell_type": "code",
   "execution_count": null,
   "metadata": {},
   "outputs": [],
   "source": [
    "class ContactBook():\n",
    "    def __init__(self) -> None:\n",
    "        self.contact = {}\n",
    "\n",
    "    def add_contact(self,name,phone=None,Email=None):\n",
    "        if name in self.contact:\n",
    "            print(\"Contact already exits!\")\n",
    "            return\n",
    "\n",
    "        self.contact[name] = {}\n",
    "        self.contact[name]['phone'] = phone\n",
    "        self.contact[name]['Email'] = Email\n",
    "        \n",
    "    def view_contact(self):\n",
    "        for name , info in self.contact.items():\n",
    "            print(f\"name : {name}\")\n",
    "            print(f\"phone : {info['phone']}\")\n",
    "            print(f\"Email : {info['Email']}\")\n",
    "            print('--'*40)\n",
    "\n",
    "    def delete_contact(self,name):\n",
    "        if name in self.contact:\n",
    "            del self.contact[name]\n",
    "            print(\"delete contact\")\n",
    "        else:\n",
    "            print(\"contact not exist\")\n",
    "    \n",
    "    def update_contact(self,name,phone=None,Email=None):\n",
    "        if name in self.contact:\n",
    "            if phone:\n",
    "                self.contact[name]['phone'] = phone\n",
    "            if Email:\n",
    "                self.contact[name]['Email'] = Email\n",
    "            print(\"update successfully\")\n",
    "            return\n",
    "        print(\"contact not found\")"
   ]
  },
  {
   "cell_type": "code",
   "execution_count": null,
   "metadata": {},
   "outputs": [],
   "source": []
  },
  {
   "cell_type": "code",
   "execution_count": null,
   "metadata": {},
   "outputs": [],
   "source": [
    "contact.add_contact('ali','5656','Email=le@wuovawal.sd')"
   ]
  },
  {
   "cell_type": "code",
   "execution_count": null,
   "metadata": {},
   "outputs": [],
   "source": [
    "contact.add_contact('Loretta','5656','rowribri@ibpumew.cf')"
   ]
  },
  {
   "cell_type": "code",
   "execution_count": null,
   "metadata": {},
   "outputs": [],
   "source": [
    "contact.view_contact()"
   ]
  },
  {
   "cell_type": "code",
   "execution_count": null,
   "metadata": {},
   "outputs": [],
   "source": [
    "contact.update_contact(\"adcdli\",\"99999999\")"
   ]
  },
  {
   "cell_type": "code",
   "execution_count": 61,
   "metadata": {},
   "outputs": [
    {
     "name": "stdout",
     "output_type": "stream",
     "text": [
      "\n",
      "          \n",
      " 1.add contact\n",
      "          \n",
      " 2.view contact\n",
      "          \n",
      " 3.update contact\n",
      "          \n",
      " 4.delete contact\n",
      "          \n",
      " 5.quit\n",
      "\n",
      "          \n",
      " 1.add contact\n",
      "          \n",
      " 2.view contact\n",
      "          \n",
      " 3.update contact\n",
      "          \n",
      " 4.delete contact\n",
      "          \n",
      " 5.quit\n"
     ]
    }
   ],
   "source": [
    "contact = ContactBook()\n",
    "\n",
    "while True:\n",
    "    print(\"\"\"\n",
    "          \\n 1.add contact\n",
    "          \\n 2.view contact\n",
    "          \\n 3.update contact\n",
    "          \\n 4.delete contact\n",
    "          \\n 5.quit\"\"\")\n",
    "    user_input = input('Please choose an option')\n",
    "    \n",
    "    if user_input =='5':\n",
    "        break\n",
    "    if user_input =='1':\n",
    "        name = input(\"name : \")\n",
    "        phone = input(\"phone : \")\n",
    "        Email = input(\"Email : \")\n",
    "        contact.add_contact(name,phone,Email)\n",
    "    elif user_input =='2':\n",
    "        print(' '*20)\n",
    "        contact.view_contact()\n",
    "    elif user_input =='3':\n",
    "        name = input(\"name : \")\n",
    "        phone = input(\"phone : \")\n",
    "        Email = input(\"Email : \")\n",
    "        contact.update_contact(name,phone,Email)\n",
    "    elif user_input =='4':\n",
    "        name = input(\"name : \")\n",
    "        contact.delete_contact(name)"
   ]
  },
  {
   "cell_type": "code",
   "execution_count": null,
   "metadata": {},
   "outputs": [],
   "source": []
  }
 ],
 "metadata": {
  "kernelspec": {
   "display_name": "py310",
   "language": "python",
   "name": "python3"
  },
  "language_info": {
   "codemirror_mode": {
    "name": "ipython",
    "version": 3
   },
   "file_extension": ".py",
   "mimetype": "text/x-python",
   "name": "python",
   "nbconvert_exporter": "python",
   "pygments_lexer": "ipython3",
   "version": "3.10.13"
  }
 },
 "nbformat": 4,
 "nbformat_minor": 2
}
